{
 "cells": [
  {
   "cell_type": "code",
   "execution_count": 138,
   "metadata": {},
   "outputs": [],
   "source": [
    "import cv2\n",
    "import tensorflow as tf\n",
    "from sklearn.metrics import accuracy_score\n",
    "from keras import models\n",
    "import matplotlib.pyplot as plt\n",
    "\n",
    "def datapreprocessing(img): \n",
    "    img = cv2.cvtColor(img,cv2.COLOR_BGR2RGB)\n",
    "    dim =(32,32)\n",
    "    img = cv2.resize(img,dim,cv2.INTER_AREA)\n",
    "    plt.imshow(img)\n",
    "    img = np.expand_dims(img, axis=0)\n",
    "    img = (img.astype('float32')) / 255.0\n",
    "    \n",
    "    return img\n"
   ]
  },
  {
   "cell_type": "code",
   "execution_count": 140,
   "metadata": {},
   "outputs": [
    {
     "name": "stdout",
     "output_type": "stream",
     "text": [
      "(20000, 32, 32, 3)\n",
      "(4000, 32, 32, 3)\n"
     ]
    }
   ],
   "source": [
    "from keras.datasets import cifar10\n",
    "from keras import optimizers\n",
    "import numpy as np\n",
    "from sklearn import preprocessing\n",
    "\n",
    "\n",
    "(x_train, y_train), (x_test, y_test) = cifar10.load_data()\n",
    "interested = [0, 1, 8, 9]\n",
    "\n",
    "scrap = []\n",
    "for idx, im in enumerate(x_train):\n",
    "    if (y_train[idx][0] not in interested):\n",
    "        scrap.append(idx)\n",
    "        \n",
    "x_train = np.delete(x_train, scrap, axis=0)\n",
    "y_train = np.delete(y_train, scrap, axis=0)\n",
    "\n",
    "enc = preprocessing.OneHotEncoder()\n",
    "enc.fit(y_train)\n",
    "y_train = enc.transform(y_train).toarray()\n",
    "\n",
    "scrap = []\n",
    "for idx, im in enumerate(x_test):\n",
    "    if (y_test[idx][0] not in interested):\n",
    "        scrap.append(idx)\n",
    "x_test = np.delete(x_test, scrap, axis=0)\n",
    "y_test = np.delete(y_test, scrap, axis=0)\n",
    "y_test = enc.transform(y_test).toarray()\n",
    "\n",
    "x_train = (x_train.astype('float32')) / 255.0\n",
    "x_test = (x_test.astype('float32')) / 255.0\n",
    "\n",
    "print(x_train.shape)\n",
    "print(x_test.shape)"
   ]
  },
  {
   "cell_type": "code",
   "execution_count": 141,
   "metadata": {},
   "outputs": [],
   "source": [
    "def show_image(x):\n",
    "    plt.imshow(x)"
   ]
  },
  {
   "cell_type": "code",
   "execution_count": 142,
   "metadata": {},
   "outputs": [],
   "source": [
    "def build_deep_autoencoder(img_shape, code_size):\n",
    "    H,W,C = img_shape\n",
    "    \n",
    "    # encoder\n",
    "    encoder = tf.keras.models.Sequential()\n",
    "    encoder.add(L.InputLayer(img_shape))\n",
    "    \n",
    "    ### YOUR CODE HERE: define encoder as per instructions above ###\n",
    "    encoder.add(L.Conv2D(filters=32, kernel_size=(3, 3), activation='elu', padding='same'))\n",
    "    encoder.add(L.MaxPooling2D(pool_size=(2, 2)))\n",
    "    encoder.add(L.Conv2D(filters=64, kernel_size=(3, 3), activation='elu', padding='same'))\n",
    "    encoder.add(L.MaxPooling2D(pool_size=(2, 2)))\n",
    "    encoder.add(L.Conv2D(filters=128, kernel_size=(3, 3), activation='elu', padding='same'))\n",
    "    encoder.add(L.MaxPooling2D(pool_size=(2, 2)))\n",
    "    encoder.add(L.Conv2D(filters=256, kernel_size=(3, 3), activation='elu', padding='same'))\n",
    "    encoder.add(L.MaxPooling2D(pool_size=(2, 2)))\n",
    "    encoder.add(L.Conv2D(filters=512, kernel_size=(3, 3), activation='elu', padding='same'))\n",
    "    encoder.add(L.MaxPooling2D(pool_size=(2, 2)))\n",
    "    encoder.add(L.Flatten())\n",
    "    encoder.add(L.Dense(code_size))\n",
    "\n",
    "    # decoder\n",
    "    decoder = tf.keras.models.Sequential()\n",
    "    decoder.add(L.InputLayer((code_size,)))\n",
    "    \n",
    "    ### YOUR CODE HERE: define decoder as per instructions above ###\n",
    "    decoder.add(L.Dense(2*2*256))\n",
    "    decoder.add(L.Reshape((2, 2, 256)))\n",
    "    decoder.add(L.Conv2DTranspose(filters=128, kernel_size=(3, 3), strides=2, activation='elu', padding='same'))\n",
    "    decoder.add(L.Conv2DTranspose(filters=64, kernel_size=(3, 3), strides=2, activation='elu', padding='same'))\n",
    "    decoder.add(L.Conv2DTranspose(filters=32, kernel_size=(3, 3), strides=2, activation='elu', padding='same'))\n",
    "    decoder.add(L.Conv2DTranspose(filters=3, kernel_size=(3, 3), strides=2, activation=None, padding='same'))\n",
    "    \n",
    "    return encoder, decoder"
   ]
  },
  {
   "cell_type": "code",
   "execution_count": 143,
   "metadata": {},
   "outputs": [
    {
     "name": "stdout",
     "output_type": "stream",
     "text": [
      "Model: \"sequential_8\"\n",
      "_________________________________________________________________\n",
      "Layer (type)                 Output Shape              Param #   \n",
      "=================================================================\n",
      "conv2d_20 (Conv2D)           (None, 32, 32, 32)        896       \n",
      "_________________________________________________________________\n",
      "max_pooling2d_20 (MaxPooling (None, 16, 16, 32)        0         \n",
      "_________________________________________________________________\n",
      "conv2d_21 (Conv2D)           (None, 16, 16, 64)        18496     \n",
      "_________________________________________________________________\n",
      "max_pooling2d_21 (MaxPooling (None, 8, 8, 64)          0         \n",
      "_________________________________________________________________\n",
      "conv2d_22 (Conv2D)           (None, 8, 8, 128)         73856     \n",
      "_________________________________________________________________\n",
      "max_pooling2d_22 (MaxPooling (None, 4, 4, 128)         0         \n",
      "_________________________________________________________________\n",
      "conv2d_23 (Conv2D)           (None, 4, 4, 256)         295168    \n",
      "_________________________________________________________________\n",
      "max_pooling2d_23 (MaxPooling (None, 2, 2, 256)         0         \n",
      "_________________________________________________________________\n",
      "conv2d_24 (Conv2D)           (None, 2, 2, 512)         1180160   \n",
      "_________________________________________________________________\n",
      "max_pooling2d_24 (MaxPooling (None, 1, 1, 512)         0         \n",
      "_________________________________________________________________\n",
      "flatten_4 (Flatten)          (None, 512)               0         \n",
      "_________________________________________________________________\n",
      "dense_8 (Dense)              (None, 64)                32832     \n",
      "=================================================================\n",
      "Total params: 1,601,408\n",
      "Trainable params: 1,601,408\n",
      "Non-trainable params: 0\n",
      "_________________________________________________________________\n",
      "Model: \"sequential_9\"\n",
      "_________________________________________________________________\n",
      "Layer (type)                 Output Shape              Param #   \n",
      "=================================================================\n",
      "dense_9 (Dense)              (None, 1024)              66560     \n",
      "_________________________________________________________________\n",
      "reshape_4 (Reshape)          (None, 2, 2, 256)         0         \n",
      "_________________________________________________________________\n",
      "conv2d_transpose_16 (Conv2DT (None, 4, 4, 128)         295040    \n",
      "_________________________________________________________________\n",
      "conv2d_transpose_17 (Conv2DT (None, 8, 8, 64)          73792     \n",
      "_________________________________________________________________\n",
      "conv2d_transpose_18 (Conv2DT (None, 16, 16, 32)        18464     \n",
      "_________________________________________________________________\n",
      "conv2d_transpose_19 (Conv2DT (None, 32, 32, 3)         867       \n",
      "=================================================================\n",
      "Total params: 454,723\n",
      "Trainable params: 454,723\n",
      "Non-trainable params: 0\n",
      "_________________________________________________________________\n"
     ]
    }
   ],
   "source": [
    "encoder, decoder = build_deep_autoencoder((32,32,3), code_size=64)\n",
    "encoder.summary()\n",
    "decoder.summary()"
   ]
  },
  {
   "cell_type": "code",
   "execution_count": 25,
   "metadata": {},
   "outputs": [],
   "source": [
    "\n",
    "inp = L.Input((32,32,3))\n",
    "code = encoder(inp)\n",
    "reconstruction = decoder(code)"
   ]
  },
  {
   "cell_type": "code",
   "execution_count": 26,
   "metadata": {},
   "outputs": [],
   "source": [
    "autoencoder = tf.keras.models.Model(inputs=inp, outputs=reconstruction)\n",
    "autoencoder.compile(optimizer=\"adamax\", loss='mse')\n"
   ]
  },
  {
   "cell_type": "code",
   "execution_count": 27,
   "metadata": {},
   "outputs": [
    {
     "name": "stdout",
     "output_type": "stream",
     "text": [
      "Epoch 1/5\n",
      "625/625 [==============================] - 69s 110ms/step - loss: 0.0342\n",
      "Epoch 2/5\n",
      "625/625 [==============================] - 65s 104ms/step - loss: 0.0182\n",
      "Epoch 3/5\n",
      "625/625 [==============================] - 68s 110ms/step - loss: 0.0147\n",
      "Epoch 4/5\n",
      "625/625 [==============================] - 69s 110ms/step - loss: 0.0129\n",
      "Epoch 5/5\n",
      "625/625 [==============================] - 67s 107ms/step - loss: 0.0118\n"
     ]
    },
    {
     "data": {
      "text/plain": [
       "<keras.callbacks.History at 0x28fe49753a0>"
      ]
     },
     "execution_count": 27,
     "metadata": {},
     "output_type": "execute_result"
    }
   ],
   "source": [
    "autoencoder.fit(x=x_train, y=x_train, epochs=5)"
   ]
  },
  {
   "cell_type": "code",
   "execution_count": 164,
   "metadata": {},
   "outputs": [
    {
     "data": {
      "text/plain": [
       "array([[[[0.87450576, 0.8926525 , 0.92740256],\n",
       "         [0.8859974 , 0.9249801 , 0.9317179 ],\n",
       "         [0.89429   , 0.91286826, 0.93814296],\n",
       "         ...,\n",
       "         [0.92134184, 0.9280849 , 0.922254  ],\n",
       "         [0.9148168 , 0.9295964 , 0.934568  ],\n",
       "         [0.9053732 , 0.92561936, 0.934841  ]],\n",
       "\n",
       "        [[0.90072477, 0.912492  , 0.9291384 ],\n",
       "         [0.9132468 , 0.93055934, 0.9332288 ],\n",
       "         [0.9230465 , 0.9503726 , 0.9314993 ],\n",
       "         ...,\n",
       "         [0.93857914, 0.9358237 , 0.9407904 ],\n",
       "         [0.9344612 , 0.9327337 , 0.94322926],\n",
       "         [0.9265319 , 0.9381699 , 0.9525974 ]],\n",
       "\n",
       "        [[0.9291085 , 0.91035104, 0.94246304],\n",
       "         [0.92396563, 0.94188875, 0.9270204 ],\n",
       "         [0.9409985 , 0.94278216, 0.95197743],\n",
       "         ...,\n",
       "         [0.9510205 , 0.94522226, 0.930851  ],\n",
       "         [0.9492402 , 0.9418801 , 0.95396745],\n",
       "         [0.9460225 , 0.95804656, 0.9559204 ]],\n",
       "\n",
       "        ...,\n",
       "\n",
       "        [[0.22248739, 0.21547729, 0.19197147],\n",
       "         [0.14716011, 0.14871395, 0.1360601 ],\n",
       "         [0.08468667, 0.07068071, 0.06325545],\n",
       "         ...,\n",
       "         [0.7370404 , 0.70582324, 0.6538946 ],\n",
       "         [0.7358761 , 0.72244763, 0.6859321 ],\n",
       "         [0.7540689 , 0.7381557 , 0.7014786 ]],\n",
       "\n",
       "        [[0.2636475 , 0.2455217 , 0.22097667],\n",
       "         [0.212894  , 0.20662129, 0.1756257 ],\n",
       "         [0.16608174, 0.1506211 , 0.13816202],\n",
       "         ...,\n",
       "         [0.7456079 , 0.7225833 , 0.66972685],\n",
       "         [0.7425989 , 0.7370665 , 0.6788582 ],\n",
       "         [0.753514  , 0.7271733 , 0.6877605 ]],\n",
       "\n",
       "        [[0.2925285 , 0.2990771 , 0.2740924 ],\n",
       "         [0.27142152, 0.27351567, 0.24529478],\n",
       "         [0.2360448 , 0.23890768, 0.21129476],\n",
       "         ...,\n",
       "         [0.73593724, 0.7200236 , 0.67506665],\n",
       "         [0.75369835, 0.72716635, 0.6798038 ],\n",
       "         [0.75269437, 0.72094595, 0.68790364]]],\n",
       "\n",
       "\n",
       "       [[[0.73853165, 0.7512134 , 0.78723246],\n",
       "         [0.7446486 , 0.7836196 , 0.80326253],\n",
       "         [0.748873  , 0.77399665, 0.7953089 ],\n",
       "         ...,\n",
       "         [0.914309  , 0.93119925, 0.93483794],\n",
       "         [0.884424  , 0.9123659 , 0.9335182 ],\n",
       "         [0.8632741 , 0.8929151 , 0.91422004]],\n",
       "\n",
       "        [[0.75327414, 0.7704286 , 0.7856669 ],\n",
       "         [0.76489604, 0.7997742 , 0.7923906 ],\n",
       "         [0.75779825, 0.7874718 , 0.80076796],\n",
       "         ...,\n",
       "         [0.9459262 , 0.95674795, 0.9792174 ],\n",
       "         [0.9113789 , 0.9322159 , 0.95058113],\n",
       "         [0.88877153, 0.91263366, 0.9292369 ]],\n",
       "\n",
       "        [[0.76207125, 0.7661332 , 0.8040811 ],\n",
       "         [0.7659285 , 0.7896894 , 0.79298913],\n",
       "         [0.7616397 , 0.7913412 , 0.8031569 ],\n",
       "         ...,\n",
       "         [0.97798   , 0.9836285 , 0.9885821 ],\n",
       "         [0.9371629 , 0.9394764 , 0.9674405 ],\n",
       "         [0.9035122 , 0.93269664, 0.93778086]],\n",
       "\n",
       "        ...,\n",
       "\n",
       "        [[0.14120843, 0.20412317, 0.25321403],\n",
       "         [0.08846672, 0.16699944, 0.22284779],\n",
       "         [0.05657125, 0.12042768, 0.19878773],\n",
       "         ...,\n",
       "         [0.0791802 , 0.13728559, 0.19278622],\n",
       "         [0.07210015, 0.11654621, 0.17003657],\n",
       "         [0.08153444, 0.13402061, 0.17994386]],\n",
       "\n",
       "        [[0.12080677, 0.17559014, 0.24547036],\n",
       "         [0.09204569, 0.14732403, 0.20388927],\n",
       "         [0.06194963, 0.11576323, 0.18434317],\n",
       "         ...,\n",
       "         [0.05173662, 0.09988472, 0.14261328],\n",
       "         [0.04204505, 0.09011206, 0.1614865 ],\n",
       "         [0.06637054, 0.11607237, 0.16056089]],\n",
       "\n",
       "        [[0.125444  , 0.18097389, 0.23459393],\n",
       "         [0.09525575, 0.15607372, 0.20274083],\n",
       "         [0.06312624, 0.13017635, 0.19107069],\n",
       "         ...,\n",
       "         [0.0231151 , 0.07995848, 0.13359523],\n",
       "         [0.0419434 , 0.08531664, 0.15018898],\n",
       "         [0.05170618, 0.10595772, 0.15448262]]],\n",
       "\n",
       "\n",
       "       [[[0.6692441 , 0.6965617 , 0.7344873 ],\n",
       "         [0.6722425 , 0.71513647, 0.7470711 ],\n",
       "         [0.6778435 , 0.70881426, 0.74270684],\n",
       "         ...,\n",
       "         [0.7650692 , 0.7992962 , 0.8278503 ],\n",
       "         [0.75644267, 0.79525554, 0.82931656],\n",
       "         [0.74451107, 0.7900519 , 0.8273885 ]],\n",
       "\n",
       "        [[0.6890843 , 0.71164036, 0.74872786],\n",
       "         [0.7055393 , 0.73548275, 0.74415547],\n",
       "         [0.6980717 , 0.72246766, 0.7484513 ],\n",
       "         ...,\n",
       "         [0.7912098 , 0.8144204 , 0.84712666],\n",
       "         [0.76950085, 0.80742943, 0.84390146],\n",
       "         [0.76370555, 0.7995709 , 0.8408638 ]],\n",
       "\n",
       "        [[0.7086086 , 0.7326093 , 0.7579987 ],\n",
       "         [0.7148143 , 0.7422255 , 0.76534116],\n",
       "         [0.717387  , 0.7517495 , 0.7636122 ],\n",
       "         ...,\n",
       "         [0.8087394 , 0.8281998 , 0.8630325 ],\n",
       "         [0.77830553, 0.8158647 , 0.8501168 ],\n",
       "         [0.7730955 , 0.8110864 , 0.83887863]],\n",
       "\n",
       "        ...,\n",
       "\n",
       "        [[0.26368967, 0.28046906, 0.28836882],\n",
       "         [0.23573883, 0.24969478, 0.2677274 ],\n",
       "         [0.23554464, 0.23881492, 0.26075435],\n",
       "         ...,\n",
       "         [0.3222214 , 0.32784095, 0.31823015],\n",
       "         [0.31821707, 0.32203647, 0.34299377],\n",
       "         [0.33223867, 0.33964   , 0.34447876]],\n",
       "\n",
       "        [[0.24154633, 0.25649187, 0.28851175],\n",
       "         [0.22518179, 0.23369174, 0.23971649],\n",
       "         [0.22245575, 0.2216581 , 0.25030658],\n",
       "         ...,\n",
       "         [0.32382897, 0.31685624, 0.32048067],\n",
       "         [0.31099617, 0.30867875, 0.3371039 ],\n",
       "         [0.32718194, 0.33117285, 0.3317559 ]],\n",
       "\n",
       "        [[0.22563194, 0.247144  , 0.2525871 ],\n",
       "         [0.21667477, 0.23705314, 0.24150535],\n",
       "         [0.21049912, 0.22733633, 0.23796247],\n",
       "         ...,\n",
       "         [0.31655154, 0.3052411 , 0.29265228],\n",
       "         [0.30594873, 0.29965547, 0.30997947],\n",
       "         [0.3262888 , 0.31507862, 0.32008353]]],\n",
       "\n",
       "\n",
       "       ...,\n",
       "\n",
       "\n",
       "       [[[0.4958445 , 0.6152828 , 0.72704536],\n",
       "         [0.46395296, 0.6047184 , 0.75615174],\n",
       "         [0.46261042, 0.5940689 , 0.75974864],\n",
       "         ...,\n",
       "         [0.49115   , 0.6473282 , 0.83022106],\n",
       "         [0.48896733, 0.6489061 , 0.82734984],\n",
       "         [0.49668285, 0.6496091 , 0.8019292 ]],\n",
       "\n",
       "        [[0.49227735, 0.6116203 , 0.77844024],\n",
       "         [0.47842005, 0.636095  , 0.78265554],\n",
       "         [0.46054244, 0.61021173, 0.7909439 ],\n",
       "         ...,\n",
       "         [0.5046006 , 0.66450316, 0.8422764 ],\n",
       "         [0.4859613 , 0.65826315, 0.84324354],\n",
       "         [0.49422267, 0.6589579 , 0.81556034]],\n",
       "\n",
       "        [[0.5089102 , 0.65777564, 0.8051034 ],\n",
       "         [0.5118748 , 0.65324223, 0.8316921 ],\n",
       "         [0.48530424, 0.65077615, 0.8201903 ],\n",
       "         ...,\n",
       "         [0.49336132, 0.67127895, 0.8526593 ],\n",
       "         [0.4926063 , 0.6639415 , 0.8482224 ],\n",
       "         [0.49075744, 0.6567506 , 0.81819075]],\n",
       "\n",
       "        ...,\n",
       "\n",
       "        [[0.33613402, 0.32800874, 0.31689915],\n",
       "         [0.33071566, 0.33815342, 0.32788947],\n",
       "         [0.36501053, 0.37298515, 0.35189316],\n",
       "         ...,\n",
       "         [0.33888516, 0.32324722, 0.28174818],\n",
       "         [0.33720258, 0.33587232, 0.30947483],\n",
       "         [0.3481148 , 0.35642695, 0.32912815]],\n",
       "\n",
       "        [[0.32683983, 0.32448813, 0.31004608],\n",
       "         [0.32764623, 0.3270795 , 0.3219225 ],\n",
       "         [0.3593101 , 0.3367403 , 0.3402469 ],\n",
       "         ...,\n",
       "         [0.34461167, 0.329526  , 0.30742   ],\n",
       "         [0.350217  , 0.3423505 , 0.3105484 ],\n",
       "         [0.36429527, 0.36703047, 0.32800782]],\n",
       "\n",
       "        [[0.3010963 , 0.30875394, 0.29368648],\n",
       "         [0.31642258, 0.31263027, 0.3025911 ],\n",
       "         [0.33107147, 0.32485396, 0.31783435],\n",
       "         ...,\n",
       "         [0.35553983, 0.34281534, 0.3094168 ],\n",
       "         [0.35738012, 0.33581945, 0.32521346],\n",
       "         [0.37294668, 0.3657144 , 0.3476439 ]]],\n",
       "\n",
       "\n",
       "       [[[0.27908367, 0.34394196, 0.4050983 ],\n",
       "         [0.27280354, 0.3596078 , 0.44033834],\n",
       "         [0.28882417, 0.3639984 , 0.45438495],\n",
       "         ...,\n",
       "         [0.3019385 , 0.40909362, 0.5263399 ],\n",
       "         [0.29184815, 0.39477   , 0.519592  ],\n",
       "         [0.30318105, 0.399988  , 0.499985  ]],\n",
       "\n",
       "        [[0.29191333, 0.35727704, 0.4580754 ],\n",
       "         [0.30495015, 0.39674202, 0.46646017],\n",
       "         [0.30943233, 0.3984778 , 0.48803064],\n",
       "         ...,\n",
       "         [0.30639297, 0.39830026, 0.53579897],\n",
       "         [0.2852754 , 0.39401928, 0.5160894 ],\n",
       "         [0.27923223, 0.39108974, 0.50141656]],\n",
       "\n",
       "        [[0.32356977, 0.41190326, 0.4919007 ],\n",
       "         [0.36078545, 0.43749663, 0.5360834 ],\n",
       "         [0.3771957 , 0.46480656, 0.5510032 ],\n",
       "         ...,\n",
       "         [0.3092194 , 0.3989008 , 0.52658236],\n",
       "         [0.28839633, 0.38153526, 0.5254255 ],\n",
       "         [0.2828645 , 0.39083272, 0.49249712]],\n",
       "\n",
       "        ...,\n",
       "\n",
       "        [[0.2324526 , 0.26858434, 0.33717442],\n",
       "         [0.17674062, 0.23066619, 0.30086207],\n",
       "         [0.16507623, 0.20545961, 0.2782166 ],\n",
       "         ...,\n",
       "         [0.7056505 , 0.7299785 , 0.78329414],\n",
       "         [0.68179816, 0.7303734 , 0.8028089 ],\n",
       "         [0.69380325, 0.7531753 , 0.8075128 ]],\n",
       "\n",
       "        [[0.26328686, 0.30411124, 0.36306286],\n",
       "         [0.2219836 , 0.2866867 , 0.32849294],\n",
       "         [0.21915536, 0.24319291, 0.31561092],\n",
       "         ...,\n",
       "         [0.762583  , 0.7910303 , 0.8406071 ],\n",
       "         [0.7306497 , 0.7752335 , 0.8419492 ],\n",
       "         [0.74137926, 0.7912673 , 0.83236295]],\n",
       "\n",
       "        [[0.28815684, 0.3469059 , 0.3965257 ],\n",
       "         [0.27646187, 0.3286625 , 0.37901786],\n",
       "         [0.26489908, 0.32073456, 0.3821167 ],\n",
       "         ...,\n",
       "         [0.7688137 , 0.8160269 , 0.8464591 ],\n",
       "         [0.7735467 , 0.80117553, 0.8419444 ],\n",
       "         [0.7610662 , 0.80496585, 0.8419072 ]]],\n",
       "\n",
       "\n",
       "       [[[0.2419357 , 0.23588955, 0.20278504],\n",
       "         [0.26239872, 0.26865962, 0.25489682],\n",
       "         [0.3041646 , 0.3006374 , 0.26448438],\n",
       "         ...,\n",
       "         [0.46878758, 0.50488204, 0.5382188 ],\n",
       "         [0.48066735, 0.5206566 , 0.53144366],\n",
       "         [0.48622856, 0.51479006, 0.54536206]],\n",
       "\n",
       "        [[0.23229265, 0.22054094, 0.19479321],\n",
       "         [0.28274792, 0.25725898, 0.22530906],\n",
       "         [0.30847654, 0.29199293, 0.26102543],\n",
       "         ...,\n",
       "         [0.49387065, 0.5476199 , 0.5634778 ],\n",
       "         [0.50867736, 0.54848737, 0.559851  ],\n",
       "         [0.49249643, 0.5466318 , 0.5561511 ]],\n",
       "\n",
       "        [[0.21401435, 0.19396843, 0.1678065 ],\n",
       "         [0.25129944, 0.22729185, 0.18727571],\n",
       "         [0.30456236, 0.29176337, 0.22493312],\n",
       "         ...,\n",
       "         [0.523127  , 0.5640778 , 0.5660936 ],\n",
       "         [0.49905807, 0.56846035, 0.56688917],\n",
       "         [0.5021228 , 0.5456928 , 0.5604779 ]],\n",
       "\n",
       "        ...,\n",
       "\n",
       "        [[0.45114523, 0.44674596, 0.3790891 ],\n",
       "         [0.4840448 , 0.458937  , 0.4006503 ],\n",
       "         [0.48610467, 0.46139976, 0.39413157],\n",
       "         ...,\n",
       "         [0.43723607, 0.39201504, 0.31602034],\n",
       "         [0.41952288, 0.387902  , 0.33013123],\n",
       "         [0.4188033 , 0.38109407, 0.3335479 ]],\n",
       "\n",
       "        [[0.43272063, 0.42935792, 0.36686775],\n",
       "         [0.45305243, 0.43467143, 0.3731065 ],\n",
       "         [0.458945  , 0.4427748 , 0.39115965],\n",
       "         ...,\n",
       "         [0.42912868, 0.42064956, 0.3485339 ],\n",
       "         [0.44442025, 0.42383882, 0.35973048],\n",
       "         [0.4319348 , 0.40539333, 0.3503953 ]],\n",
       "\n",
       "        [[0.42941752, 0.41252407, 0.3617281 ],\n",
       "         [0.43788666, 0.40999165, 0.35589147],\n",
       "         [0.43862745, 0.4079206 , 0.3491562 ],\n",
       "         ...,\n",
       "         [0.45590198, 0.3974355 , 0.3644886 ],\n",
       "         [0.43376452, 0.40757683, 0.35854906],\n",
       "         [0.44001237, 0.39596778, 0.3690091 ]]]], dtype=float32)"
      ]
     },
     "execution_count": 164,
     "metadata": {},
     "output_type": "execute_result"
    }
   ],
   "source": [
    "y_pred = autoencoder.predict(x_test)\n",
    "y_pred"
   ]
  },
  {
   "cell_type": "code",
   "execution_count": null,
   "metadata": {},
   "outputs": [],
   "source": [
    "labels = ['airplane', 'automobile', 'ship', 'truck']\n",
    "lookup = np.argmax(y_test[:, :], axis=1)"
   ]
  },
  {
   "cell_type": "code",
   "execution_count": 28,
   "metadata": {},
   "outputs": [],
   "source": [
    "autoencoder.save(\"autoencoder.h5\")"
   ]
  },
  {
   "cell_type": "code",
   "execution_count": 50,
   "metadata": {},
   "outputs": [],
   "source": [
    "def displayimage(image) :\n",
    "    img = datapreprocessing(image)\n",
    "    res = autoencoder.predict(img)\n",
    "    res = np.squeeze(res,axis=0)\n",
    "    plt.imshow(res)"
   ]
  },
  {
   "cell_type": "code",
   "execution_count": 52,
   "metadata": {},
   "outputs": [
    {
     "data": {
      "image/png": "[encoded data removed]",
      "text/plain": [
       "<Figure size 360x360 with 1 Axes>"
      ]
     },
     "metadata": {
      "needs_background": "light"
     },
     "output_type": "display_data"
    },
    {
     "data": {
      "image/png": "[encoded data removed]",
      "text/plain": [
       "<Figure size 360x360 with 1 Axes>"
      ]
     },
     "metadata": {
      "needs_background": "light"
     },
     "output_type": "display_data"
    }
   ],
   "source": [
    "import cv2\n",
    "query = cv2.imread(\"ship-1.jpg\")\n",
    "plt.figure(figsize=[5,5])\n",
    "plt.subplot(1,4,1)\n",
    "plt.imshow(query)\n",
    "displayimage(query)"
   ]
  },
  {
   "cell_type": "code",
   "execution_count": 144,
   "metadata": {},
   "outputs": [
    {
     "name": "stdout",
     "output_type": "stream",
     "text": [
      "(20000, 64)\n"
     ]
    }
   ],
   "source": [
    "features = encoder.predict(x_train)\n",
    "print(features.shape)"
   ]
  },
  {
   "cell_type": "code",
   "execution_count": 145,
   "metadata": {},
   "outputs": [
    {
     "data": {
      "text/plain": [
       "NearestNeighbors(metric='euclidean')"
      ]
     },
     "execution_count": 145,
     "metadata": {},
     "output_type": "execute_result"
    }
   ],
   "source": [
    "\n",
    "from sklearn.neighbors import NearestNeighbors\n",
    "nei_clf = NearestNeighbors(metric=\"euclidean\")\n",
    "nei_clf.fit(features)"
   ]
  },
  {
   "cell_type": "code",
   "execution_count": 173,
   "metadata": {},
   "outputs": [],
   "source": [
    "def get_similar(image, n_neighbors=10):\n",
    "    code = encoder.predict(image)\n",
    "    (distances,),(idx,) = nei_clf.kneighbors(code,n_neighbors=n_neighbors) \n",
    "    return distances,idx"
   ]
  },
  {
   "cell_type": "code",
   "execution_count": 147,
   "metadata": {},
   "outputs": [],
   "source": [
    "import numpy as np"
   ]
  },
  {
   "cell_type": "code",
   "execution_count": 148,
   "metadata": {},
   "outputs": [],
   "source": [
    "labels = ['airplane', 'automobile', 'ship', 'truck']\n",
    "lookup = np.argmax(y_train[:, :], axis=1)"
   ]
  },
  {
   "cell_type": "code",
   "execution_count": 174,
   "metadata": {},
   "outputs": [
    {
     "name": "stdout",
     "output_type": "stream",
     "text": [
      "ship\n"
     ]
    },
    {
     "data": {
      "image/png": "[encoded data removed]",
      "text/plain": [
       "<Figure size 360x360 with 1 Axes>"
      ]
     },
     "metadata": {
      "needs_background": "light"
     },
     "output_type": "display_data"
    }
   ],
   "source": [
    "import random\n",
    "import matplotlib.pyplot as plt\n",
    "\n",
    "\n",
    "idx = random.randrange(0,20000)\n",
    "import matplotlib.pyplot as plt\n",
    "plt.figure(figsize=(5,5))\n",
    "\n",
    "plt.imshow(x_train[idx])\n",
    "img = np.expand_dims(x_train[idx],axis=0)\n",
    "distance,results = get_similar(img)\n",
    "print(labels[lookup[idx]])\n"
   ]
  },
  {
   "cell_type": "code",
   "execution_count": 150,
   "metadata": {},
   "outputs": [
    {
     "data": {
      "text/plain": [
       "3589"
      ]
     },
     "execution_count": 150,
     "metadata": {},
     "output_type": "execute_result"
    }
   ],
   "source": [
    "idx"
   ]
  },
  {
   "cell_type": "code",
   "execution_count": 175,
   "metadata": {},
   "outputs": [
    {
     "name": "stdout",
     "output_type": "stream",
     "text": [
      "Search results:\n"
     ]
    },
    {
     "data": {
      "image/png": "[encoded data removed]",
      "text/plain": [
       "<Figure size 720x720 with 3 Axes>"
      ]
     },
     "metadata": {
      "needs_background": "light"
     },
     "output_type": "display_data"
    }
   ],
   "source": [
    "import matplotlib.pyplot as plt\n",
    "\n",
    "\n",
    "print(\"Search results:\")\n",
    "\n",
    "plt.figure(figsize=(10,10))\n",
    "for i in range(3):\n",
    "    ax = plt.subplot(1, 10, i+1)\n",
    "    plt.imshow(x_train[results[i+1]])\n",
    "    ax.get_xaxis().set_visible(False)\n",
    "    ax.get_yaxis().set_visible(False)\n",
    "    plt.title(str(labels[lookup[results[i+1]]]))\n",
    "\n",
    "plt.show()"
   ]
  },
  {
   "cell_type": "code",
   "execution_count": 176,
   "metadata": {},
   "outputs": [
    {
     "name": "stdout",
     "output_type": "stream",
     "text": [
      "F1 Score for this search: 0.8235294117647058\n"
     ]
    }
   ],
   "source": [
    "from sklearn.metrics import f1_score\n",
    "t = np.ones(10).astype(float)\n",
    "p = np.array([lookup[x] == lookup[idx] for x in results]).astype(float)\n",
    "\n",
    "print(\"F1 Score for this search:\", f1_score(t, p))\n"
   ]
  },
  {
   "cell_type": "code",
   "execution_count": 153,
   "metadata": {},
   "outputs": [],
   "source": [
    "def NNdisplayimage(image) :\n",
    "    img = datapreprocessing(image)\n",
    "    distance,results = get_similar(img)\n",
    "    print(\"Search results:\")\n",
    "\n",
    "    plt.figure(figsize=(10,10))\n",
    "    for i in range(3):\n",
    "        ax = plt.subplot(1, 10, i+1)\n",
    "        plt.imshow(x_train[results[i+1]])\n",
    "        ax.get_xaxis().set_visible(False)\n",
    "        ax.get_yaxis().set_visible(False)\n",
    "        plt.title(str(labels[lookup[results[i+1]]]))\n",
    "\n",
    "    plt.show()"
   ]
  },
  {
   "cell_type": "code",
   "execution_count": 155,
   "metadata": {},
   "outputs": [
    {
     "name": "stdout",
     "output_type": "stream",
     "text": [
      "Search results:\n"
     ]
    },
    {
     "data": {
      "image/png": "[encoded data removed]",
      "text/plain": [
       "<Figure size 432x288 with 1 Axes>"
      ]
     },
     "metadata": {
      "needs_background": "light"
     },
     "output_type": "display_data"
    },
    {
     "data": {
      "image/png": "[encoded data removed]",
      "text/plain": [
       "<Figure size 720x720 with 3 Axes>"
      ]
     },
     "metadata": {
      "needs_background": "light"
     },
     "output_type": "display_data"
    }
   ],
   "source": [
    "query = cv2.imread(\"ship.jfif\")\n",
    "NNdisplayimage(query)"
   ]
  }
 ],
 "metadata": {
  "kernelspec": {
   "display_name": "Python 3 (ipykernel)",
   "language": "python",
   "name": "python3"
  },
  "language_info": {
   "codemirror_mode": {
    "name": "ipython",
    "version": 3
   },
   "file_extension": ".py",
   "mimetype": "text/x-python",
   "name": "python",
   "nbconvert_exporter": "python",
   "pygments_lexer": "ipython3",
   "version": "3.9.6"
  }
 },
 "nbformat": 4,
 "nbformat_minor": 2
}
